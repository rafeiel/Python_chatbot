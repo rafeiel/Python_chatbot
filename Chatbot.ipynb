{
 "cells": [
  {
   "cell_type": "markdown",
   "metadata": {},
   "source": [
    "## Chatbot"
   ]
  },
  {
   "cell_type": "code",
   "execution_count": 1,
   "metadata": {},
   "outputs": [
    {
     "name": "stdout",
     "output_type": "stream",
     "text": [
      "Chatbot: Fala aí, beleza?\n"
     ]
    },
    {
     "name": "stdin",
     "output_type": "stream",
     "text": [
      "Cliente:  Qual e o seu nome?\n"
     ]
    },
    {
     "name": "stdout",
     "output_type": "stream",
     "text": [
      "Desculpe, não entendi o que quis dizer...\n"
     ]
    },
    {
     "name": "stdin",
     "output_type": "stream",
     "text": [
      "Chatbot: O que você esperava de resposta?\n",
      " Meu nome é R2D2\n"
     ]
    },
    {
     "name": "stdout",
     "output_type": "stream",
     "text": [
      "R2D2: Huum, não sabia disso. Vou me lembrar disso!\n",
      "\n"
     ]
    },
    {
     "name": "stdin",
     "output_type": "stream",
     "text": [
      "Cliente:  Qual e o seu nome?\n"
     ]
    },
    {
     "name": "stdout",
     "output_type": "stream",
     "text": [
      "R2D2: Meu nome é R2D2\n",
      "\n"
     ]
    },
    {
     "name": "stdin",
     "output_type": "stream",
     "text": [
      "Cliente:  Qual a sua idade?\n"
     ]
    },
    {
     "name": "stdout",
     "output_type": "stream",
     "text": [
      "Desculpe, não entendi o que quis dizer...\n"
     ]
    },
    {
     "name": "stdin",
     "output_type": "stream",
     "text": [
      "Chatbot: O que você esperava de resposta?\n",
      " Eu acabei de nascer!\n"
     ]
    },
    {
     "name": "stdout",
     "output_type": "stream",
     "text": [
      "R2D2: Huum, não sabia disso. Vou me lembrar disso!\n",
      "\n"
     ]
    },
    {
     "name": "stdin",
     "output_type": "stream",
     "text": [
      "Cliente:  Qual a sua idade?\n"
     ]
    },
    {
     "name": "stdout",
     "output_type": "stream",
     "text": [
      "R2D2: Eu acabei de nascer!\n",
      "\n"
     ]
    },
    {
     "name": "stdin",
     "output_type": "stream",
     "text": [
      "Cliente:  Qual o diametro da terra?\n"
     ]
    },
    {
     "name": "stdout",
     "output_type": "stream",
     "text": [
      "Desculpe, não entendi o que quis dizer...\n"
     ]
    },
    {
     "name": "stdin",
     "output_type": "stream",
     "text": [
      "Chatbot: O que você esperava de resposta?\n",
      " O diâmetro da Terra é 12.742 Km\n"
     ]
    },
    {
     "name": "stdout",
     "output_type": "stream",
     "text": [
      "R2D2: Huum, não sabia disso. Vou me lembrar disso!\n",
      "\n"
     ]
    },
    {
     "name": "stdin",
     "output_type": "stream",
     "text": [
      "Cliente:  Qual o diametro da terra?\n"
     ]
    },
    {
     "name": "stdout",
     "output_type": "stream",
     "text": [
      "R2D2: O diâmetro da Terra é 12.742 Km\n",
      "\n"
     ]
    },
    {
     "name": "stdin",
     "output_type": "stream",
     "text": [
      "Cliente:  Onde voce mora?\n"
     ]
    },
    {
     "name": "stdout",
     "output_type": "stream",
     "text": [
      "Desculpe, não entendi o que quis dizer...\n"
     ]
    },
    {
     "name": "stdin",
     "output_type": "stream",
     "text": [
      "Chatbot: O que você esperava de resposta?\n",
      " Eu moro no seu HD\n"
     ]
    },
    {
     "name": "stdout",
     "output_type": "stream",
     "text": [
      "R2D2: Huum, não sabia disso. Vou me lembrar disso!\n",
      "\n"
     ]
    },
    {
     "name": "stdin",
     "output_type": "stream",
     "text": [
      "Cliente:  Onde voce mora?\n"
     ]
    },
    {
     "name": "stdout",
     "output_type": "stream",
     "text": [
      "R2D2: Eu moro no seu HD\n",
      "\n"
     ]
    },
    {
     "name": "stdin",
     "output_type": "stream",
     "text": [
      "Cliente:  muito obrigado\n"
     ]
    },
    {
     "name": "stdout",
     "output_type": "stream",
     "text": [
      "Desculpe, não entendi o que quis dizer...\n"
     ]
    },
    {
     "name": "stdin",
     "output_type": "stream",
     "text": [
      "Chatbot: O que você esperava de resposta?\n",
      " tchau\n"
     ]
    },
    {
     "name": "stdout",
     "output_type": "stream",
     "text": [
      "R2D2: Huum, não sabia disso. Vou me lembrar disso!\n",
      "\n",
      "Chatbot: Eu que agradeço o contato. Bye!\n"
     ]
    }
   ],
   "source": [
    "import chatbot as bot\n",
    "nome_bot = \"R2D2\"\n",
    "bot.saudacao(nome_bot)\n",
    "while True:\n",
    "    texto = bot.recebeTexto()\n",
    "    resposta = bot.buscaResposta(\"Cliente: \"+texto+\"\\n\")\n",
    "    if bot.exibeResposta(texto,resposta,nome_bot) == \"fim\":\n",
    "        break"
   ]
  },
  {
   "cell_type": "code",
   "execution_count": null,
   "metadata": {},
   "outputs": [],
   "source": []
  }
 ],
 "metadata": {
  "kernelspec": {
   "display_name": "Python 3",
   "language": "python",
   "name": "python3"
  },
  "language_info": {
   "codemirror_mode": {
    "name": "ipython",
    "version": 3
   },
   "file_extension": ".py",
   "mimetype": "text/x-python",
   "name": "python",
   "nbconvert_exporter": "python",
   "pygments_lexer": "ipython3",
   "version": "3.7.6"
  }
 },
 "nbformat": 4,
 "nbformat_minor": 4
}
